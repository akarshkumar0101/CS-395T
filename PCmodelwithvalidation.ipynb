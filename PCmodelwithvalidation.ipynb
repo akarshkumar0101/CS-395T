{
  "nbformat": 4,
  "nbformat_minor": 0,
  "metadata": {
    "colab": {
      "name": "PCmodelwithvalidation.ipynb",
      "provenance": [],
      "collapsed_sections": []
    },
    "kernelspec": {
      "name": "python3",
      "display_name": "Python 3"
    },
    "language_info": {
      "name": "python"
    },
    "widgets": {
      "application/vnd.jupyter.widget-state+json": {
        "cd5eb93687884cdeaa2a852ec8ac49f5": {
          "model_module": "@jupyter-widgets/controls",
          "model_name": "HBoxModel",
          "state": {
            "_view_name": "HBoxView",
            "_dom_classes": [],
            "_model_name": "HBoxModel",
            "_view_module": "@jupyter-widgets/controls",
            "_model_module_version": "1.5.0",
            "_view_count": null,
            "_view_module_version": "1.5.0",
            "box_style": "",
            "layout": "IPY_MODEL_0825c65a7f6448f1979bfaaae9104846",
            "_model_module": "@jupyter-widgets/controls",
            "children": [
              "IPY_MODEL_3d9bfc5213ce48e596d0a778184dc469",
              "IPY_MODEL_ecaeb855392f4d65980bd682290e4db5"
            ]
          }
        },
        "0825c65a7f6448f1979bfaaae9104846": {
          "model_module": "@jupyter-widgets/base",
          "model_name": "LayoutModel",
          "state": {
            "_view_name": "LayoutView",
            "grid_template_rows": null,
            "right": null,
            "justify_content": null,
            "_view_module": "@jupyter-widgets/base",
            "overflow": null,
            "_model_module_version": "1.2.0",
            "_view_count": null,
            "flex_flow": null,
            "width": null,
            "min_width": null,
            "border": null,
            "align_items": null,
            "bottom": null,
            "_model_module": "@jupyter-widgets/base",
            "top": null,
            "grid_column": null,
            "overflow_y": null,
            "overflow_x": null,
            "grid_auto_flow": null,
            "grid_area": null,
            "grid_template_columns": null,
            "flex": null,
            "_model_name": "LayoutModel",
            "justify_items": null,
            "grid_row": null,
            "max_height": null,
            "align_content": null,
            "visibility": null,
            "align_self": null,
            "height": null,
            "min_height": null,
            "padding": null,
            "grid_auto_rows": null,
            "grid_gap": null,
            "max_width": null,
            "order": null,
            "_view_module_version": "1.2.0",
            "grid_template_areas": null,
            "object_position": null,
            "object_fit": null,
            "grid_auto_columns": null,
            "margin": null,
            "display": null,
            "left": null
          }
        },
        "3d9bfc5213ce48e596d0a778184dc469": {
          "model_module": "@jupyter-widgets/controls",
          "model_name": "FloatProgressModel",
          "state": {
            "_view_name": "ProgressView",
            "style": "IPY_MODEL_497bb28adfef407ea2ed3abeb472e6dc",
            "_dom_classes": [],
            "description": " 33%",
            "_model_name": "FloatProgressModel",
            "bar_style": "danger",
            "max": 500,
            "_view_module": "@jupyter-widgets/controls",
            "_model_module_version": "1.5.0",
            "value": 165,
            "_view_count": null,
            "_view_module_version": "1.5.0",
            "orientation": "horizontal",
            "min": 0,
            "description_tooltip": null,
            "_model_module": "@jupyter-widgets/controls",
            "layout": "IPY_MODEL_7f41941a14af40ae8381986a16c1fc73"
          }
        },
        "ecaeb855392f4d65980bd682290e4db5": {
          "model_module": "@jupyter-widgets/controls",
          "model_name": "HTMLModel",
          "state": {
            "_view_name": "HTMLView",
            "style": "IPY_MODEL_4b72eda6cf49482f8077165c4aef6abd",
            "_dom_classes": [],
            "description": "",
            "_model_name": "HTMLModel",
            "placeholder": "​",
            "_view_module": "@jupyter-widgets/controls",
            "_model_module_version": "1.5.0",
            "value": " 165/500 [03:53&lt;06:59,  1.25s/it]",
            "_view_count": null,
            "_view_module_version": "1.5.0",
            "description_tooltip": null,
            "_model_module": "@jupyter-widgets/controls",
            "layout": "IPY_MODEL_eaa03ae2903b439caa06036886a3fca3"
          }
        },
        "497bb28adfef407ea2ed3abeb472e6dc": {
          "model_module": "@jupyter-widgets/controls",
          "model_name": "ProgressStyleModel",
          "state": {
            "_view_name": "StyleView",
            "_model_name": "ProgressStyleModel",
            "description_width": "initial",
            "_view_module": "@jupyter-widgets/base",
            "_model_module_version": "1.5.0",
            "_view_count": null,
            "_view_module_version": "1.2.0",
            "bar_color": null,
            "_model_module": "@jupyter-widgets/controls"
          }
        },
        "7f41941a14af40ae8381986a16c1fc73": {
          "model_module": "@jupyter-widgets/base",
          "model_name": "LayoutModel",
          "state": {
            "_view_name": "LayoutView",
            "grid_template_rows": null,
            "right": null,
            "justify_content": null,
            "_view_module": "@jupyter-widgets/base",
            "overflow": null,
            "_model_module_version": "1.2.0",
            "_view_count": null,
            "flex_flow": null,
            "width": null,
            "min_width": null,
            "border": null,
            "align_items": null,
            "bottom": null,
            "_model_module": "@jupyter-widgets/base",
            "top": null,
            "grid_column": null,
            "overflow_y": null,
            "overflow_x": null,
            "grid_auto_flow": null,
            "grid_area": null,
            "grid_template_columns": null,
            "flex": null,
            "_model_name": "LayoutModel",
            "justify_items": null,
            "grid_row": null,
            "max_height": null,
            "align_content": null,
            "visibility": null,
            "align_self": null,
            "height": null,
            "min_height": null,
            "padding": null,
            "grid_auto_rows": null,
            "grid_gap": null,
            "max_width": null,
            "order": null,
            "_view_module_version": "1.2.0",
            "grid_template_areas": null,
            "object_position": null,
            "object_fit": null,
            "grid_auto_columns": null,
            "margin": null,
            "display": null,
            "left": null
          }
        },
        "4b72eda6cf49482f8077165c4aef6abd": {
          "model_module": "@jupyter-widgets/controls",
          "model_name": "DescriptionStyleModel",
          "state": {
            "_view_name": "StyleView",
            "_model_name": "DescriptionStyleModel",
            "description_width": "",
            "_view_module": "@jupyter-widgets/base",
            "_model_module_version": "1.5.0",
            "_view_count": null,
            "_view_module_version": "1.2.0",
            "_model_module": "@jupyter-widgets/controls"
          }
        },
        "eaa03ae2903b439caa06036886a3fca3": {
          "model_module": "@jupyter-widgets/base",
          "model_name": "LayoutModel",
          "state": {
            "_view_name": "LayoutView",
            "grid_template_rows": null,
            "right": null,
            "justify_content": null,
            "_view_module": "@jupyter-widgets/base",
            "overflow": null,
            "_model_module_version": "1.2.0",
            "_view_count": null,
            "flex_flow": null,
            "width": null,
            "min_width": null,
            "border": null,
            "align_items": null,
            "bottom": null,
            "_model_module": "@jupyter-widgets/base",
            "top": null,
            "grid_column": null,
            "overflow_y": null,
            "overflow_x": null,
            "grid_auto_flow": null,
            "grid_area": null,
            "grid_template_columns": null,
            "flex": null,
            "_model_name": "LayoutModel",
            "justify_items": null,
            "grid_row": null,
            "max_height": null,
            "align_content": null,
            "visibility": null,
            "align_self": null,
            "height": null,
            "min_height": null,
            "padding": null,
            "grid_auto_rows": null,
            "grid_gap": null,
            "max_width": null,
            "order": null,
            "_view_module_version": "1.2.0",
            "grid_template_areas": null,
            "object_position": null,
            "object_fit": null,
            "grid_auto_columns": null,
            "margin": null,
            "display": null,
            "left": null
          }
        }
      }
    },
    "accelerator": "GPU"
  },
  "cells": [
    {
      "cell_type": "code",
      "metadata": {
        "colab": {
          "base_uri": "https://localhost:8080/"
        },
        "id": "ilX6jWlUy9i0",
        "outputId": "c5e9c115-711a-46e9-b488-62d601b97458"
      },
      "source": [
        "from google.colab import drive \n",
        "drive.mount('/content/drive')\n",
        "%cd /content/drive/MyDrive/cs395T/speechmodeltutorial/"
      ],
      "execution_count": 1,
      "outputs": [
        {
          "output_type": "stream",
          "text": [
            "Drive already mounted at /content/drive; to attempt to forcibly remount, call drive.mount(\"/content/drive\", force_remount=True).\n",
            "/content/drive/MyDrive/cs395T/speechmodeltutorial\n"
          ],
          "name": "stdout"
        }
      ]
    },
    {
      "cell_type": "code",
      "metadata": {
        "id": "nb-pcLKCsHhE"
      },
      "source": [
        "%load_ext autoreload\n",
        "%autoreload 2"
      ],
      "execution_count": 2,
      "outputs": []
    },
    {
      "cell_type": "code",
      "metadata": {
        "id": "VxA--zzBsR0P"
      },
      "source": [
        "import numpy as np\n",
        "import matplotlib.pyplot as plt\n",
        "import torch\n",
        "from tqdm.notebook import tqdm\n",
        "from pytorchtools import EarlyStopping\n",
        "\n",
        "import process\n",
        "\n",
        "\n",
        "device = torch.device('cuda' if torch.cuda.is_available() else 'cpu')"
      ],
      "execution_count": 3,
      "outputs": []
    },
    {
      "cell_type": "code",
      "metadata": {
        "id": "fsazRD5msThT",
        "colab": {
          "base_uri": "https://localhost:8080/"
        },
        "outputId": "21cab570-d85f-482b-fef4-55fe3edc8f72"
      },
      "source": [
        "X_train, X_test, Y_train, Y_test, mask = process.load_data(make_validation_set=False)"
      ],
      "execution_count": 4,
      "outputs": [
        {
          "output_type": "stream",
          "text": [
            "Doing lanczos interpolation with cutoff=0.499 and 3 lobes.\n",
            "Doing lanczos interpolation with cutoff=0.499 and 3 lobes.\n",
            "Doing lanczos interpolation with cutoff=0.499 and 3 lobes.\n",
            "Doing lanczos interpolation with cutoff=0.499 and 3 lobes.\n",
            "Doing lanczos interpolation with cutoff=0.499 and 3 lobes.\n",
            "Doing lanczos interpolation with cutoff=0.499 and 3 lobes.\n",
            "Doing lanczos interpolation with cutoff=0.499 and 3 lobes.\n",
            "Doing lanczos interpolation with cutoff=0.499 and 3 lobes.\n",
            "Doing lanczos interpolation with cutoff=0.499 and 3 lobes.\n",
            "Doing lanczos interpolation with cutoff=0.499 and 3 lobes.\n",
            "Doing lanczos interpolation with cutoff=0.499 and 3 lobes.\n"
          ],
          "name": "stdout"
        }
      ]
    },
    {
      "cell_type": "code",
      "metadata": {
        "id": "F4a37dI7tKx_"
      },
      "source": [
        "X_train = X_train.to(device)\n",
        "Y_train = Y_train.to(device)\n",
        "X_test = X_test.to(device)\n",
        "Y_test = Y_test.to(device)\n",
        "\n",
        "X_test = X_test.reshape(X_test.shape[0], 1, X_test.shape[1])"
      ],
      "execution_count": 5,
      "outputs": []
    },
    {
      "cell_type": "code",
      "metadata": {
        "colab": {
          "base_uri": "https://localhost:8080/"
        },
        "id": "w17MHpte6PHb",
        "outputId": "22ffe379-bb2f-459d-cc5d-ab68c7b58dbe"
      },
      "source": [
        "print(X_train.shape)\n",
        "print(Y_train.shape)\n",
        "print(type(X_train))\n",
        "print(X_test.shape)\n",
        "print(Y_test.shape)\n",
        "from torch.autograd import Variable "
      ],
      "execution_count": 6,
      "outputs": [
        {
          "output_type": "stream",
          "text": [
            "torch.Size([3737, 3072])\n",
            "torch.Size([3737, 37226])\n",
            "<class 'torch.Tensor'>\n",
            "torch.Size([291, 1, 3072])\n",
            "torch.Size([291, 37226])\n"
          ],
          "name": "stdout"
        }
      ]
    },
    {
      "cell_type": "code",
      "metadata": {
        "id": "UrD7LoKUtMeW"
      },
      "source": [
        "class PCModel(torch.nn.Module):\n",
        "    def __init__(self):\n",
        "        super().__init__()\n",
        "        self.d_out = Y_train.shape[-1] #number of classes\n",
        "        self.num_layers = 1 #number of layers\n",
        "        self.d_in = X_train.shape[-1] #input size\n",
        "        self.hidden_size = 1024 #hidden state\n",
        "\n",
        "        self.lstm = torch.nn.LSTM(input_size=self.d_in, hidden_size=self.hidden_size,\n",
        "                          num_layers=self.num_layers, batch_first=True) #lstm\n",
        "        self.fc_1 =  torch.nn.Linear(self.hidden_size, 1000) #fully connected 1\n",
        "        self.fc_2 =  torch.nn.Linear(1000, 1000) #fully connected 1\n",
        "        #self.dropout = torch.nn.Dropout(0.1)\n",
        "        #self.maxpool = torch.nn.MaxPool1d(3, stride=2)\n",
        "        self.fc = torch.nn.Linear(1000, self.d_out) #fully connected last layer\n",
        "\n",
        "        self.relu = torch.nn.ReLU()\n",
        "    \n",
        "    def forward(self,x):\n",
        "        h_0 = Variable(torch.zeros(self.num_layers, x.size(0), self.hidden_size)) #hidden state\n",
        "        c_0 = Variable(torch.zeros(self.num_layers, x.size(0), self.hidden_size)) #internal state\n",
        "        h_0 = h_0.cuda()\n",
        "        c_0 = c_0.cuda()\n",
        "        # h_1 = Variable(torch.zeros(self.num_layers, x.size(0), self.hidden_size)) #hidden state\n",
        "        # c_1 = Variable(torch.zeros(self.num_layers, x.size(0), self.hidden_size)) #internal state\n",
        "        # h_1 = h_1.cuda()\n",
        "        # c_1 = c_1.cuda()\n",
        "        #Propagate input through LSTM\n",
        "        output, (hn, cn) = self.lstm(x, (h_0, c_0)) #lstm with input, hidden, and internal state\n",
        "        hn = hn.view(-1, self.hidden_size) #reshaping the data for Dense layer next\n",
        "        out1 = self.relu(hn)\n",
        "        out1 = self.fc_1(out1) #first Dense\n",
        "        out1 = self.relu(out1)\n",
        "        out1 = self.fc_2(out1) #first Dense\n",
        "        out1 = self.relu(out1) #relu\n",
        "        out1 = self.fc(out1) #Final Output\n",
        "        # output1, (hn1, cn1) = self.lstm(x, (h_1, c_1)) #lstm with input, hidden, and internal state\n",
        "        # hn1 = hn1.view(-1, self.hidden_size) #reshaping the data for Dense layer next\n",
        "        # out2 = self.relu(hn1)\n",
        "        # out2 = self.fc_1(out2) #first Dense\n",
        "        # out2 = self.relu(out2) #relu\n",
        "        # out2 = self.fc(out2) #Final Output\n",
        "\n",
        "        # out = out1 + out2\n",
        "\n",
        "        return out1"
      ],
      "execution_count": 7,
      "outputs": []
    },
    {
      "cell_type": "code",
      "metadata": {
        "id": "0_iIbadRtPC2",
        "colab": {
          "base_uri": "https://localhost:8080/"
        },
        "outputId": "db536e32-e4fd-4099-edd2-fc3021cef907"
      },
      "source": [
        "model = PCModel().to(device)\n",
        "\n",
        "print(model)\n"
      ],
      "execution_count": 19,
      "outputs": [
        {
          "output_type": "stream",
          "text": [
            "AKModel(\n",
            "  (lstm): LSTM(3072, 1024, batch_first=True)\n",
            "  (fc_1): Linear(in_features=1024, out_features=1000, bias=True)\n",
            "  (fc_2): Linear(in_features=1000, out_features=1000, bias=True)\n",
            "  (fc): Linear(in_features=1000, out_features=37226, bias=True)\n",
            "  (relu): ReLU()\n",
            ")\n"
          ],
          "name": "stdout"
        }
      ]
    },
    {
      "cell_type": "code",
      "metadata": {
        "colab": {
          "base_uri": "https://localhost:8080/"
        },
        "id": "7yfEjuA7sVP3",
        "outputId": "dd29b011-8328-4243-9461-00a84a4ab760"
      },
      "source": [
        "bs = 4000\n",
        "all_idxs = range(len(X_train))\n"
      ],
      "execution_count": 20,
      "outputs": [
        {
          "output_type": "stream",
          "text": [
            "range(0, 3737)\n"
          ],
          "name": "stdout"
        }
      ]
    },
    {
      "cell_type": "code",
      "metadata": {
        "colab": {
          "base_uri": "https://localhost:8080/",
          "height": 1000,
          "referenced_widgets": [
            "cd5eb93687884cdeaa2a852ec8ac49f5",
            "0825c65a7f6448f1979bfaaae9104846",
            "3d9bfc5213ce48e596d0a778184dc469",
            "ecaeb855392f4d65980bd682290e4db5",
            "497bb28adfef407ea2ed3abeb472e6dc",
            "7f41941a14af40ae8381986a16c1fc73",
            "4b72eda6cf49482f8077165c4aef6abd",
            "eaa03ae2903b439caa06036886a3fca3"
          ]
        },
        "id": "PW1CKIHBtRy2",
        "outputId": "b4868fac-9bfa-454d-e964-2b4f4da9004d"
      },
      "source": [
        "\n",
        "opt = torch.optim.Adam(model.parameters(), lr=1e-3)\n",
        "\n",
        "early_stopping = EarlyStopping(patience=20, verbose=True)\n",
        "\n",
        "\n",
        "for epoch_idx in tqdm(range(1000)[:500]):\n",
        "    all_batch_idxs = [all_idxs[i: i+bs] for i in range(0, len(all_idxs), bs)]\n",
        "    valid_losses = []\n",
        "    for batch_idxs in (all_batch_idxs):\n",
        "        X_batch = X_train[batch_idxs]\n",
        "        Y_batch = Y_train[batch_idxs]\n",
        "        X_ray = X_batch.cpu().numpy()\n",
        "        Y_ray = Y_batch.cpu().numpy()\n",
        "        indices = np.arange(X_ray.shape[0])\n",
        "        subindices = np.random.choice(indices, 100, replace = False)\n",
        "        x_trn = np.delete(X_ray, subindices, 0)\n",
        "        y_trn = np.delete(Y_ray, subindices, 0)\n",
        "        x_val = np.take(X_ray, subindices, 0)\n",
        "        y_val = np.take(Y_ray, subindices, 0)\n",
        "\n",
        "        X_train_tensor = torch.tensor(x_trn).to(device)\n",
        "        y_train_tensor = torch.tensor(y_trn).to(device)\n",
        "\n",
        "        X_val_tensor = torch.tensor(x_val).to(device)\n",
        "        y_val_tensor = torch.tensor(y_val).to(device)\n",
        "\n",
        "        X_train_tensor = X_train_tensor.reshape(X_train_tensor.shape[0], 1, X_train_tensor.shape[1])\n",
        "        Y_train_pred = model(X_train_tensor)\n",
        "    \n",
        "        loss = (y_train_tensor-Y_train_pred).pow(2).mean()\n",
        "        \n",
        "        X_val_tensor = X_val_tensor.reshape(X_val_tensor.shape[0], 1, X_val_tensor.shape[1])\n",
        "        Y_val_pred = model(X_val_tensor)\n",
        "        loss_val = (y_val_tensor-Y_val_pred).pow(2).mean()\n",
        "        \n",
        "        opt.zero_grad()\n",
        "        loss.backward()\n",
        "        opt.step()\n",
        "        loss = loss.detach()\n",
        "        valid_losses.append(loss_val.detach().cpu().numpy())\n",
        "\n",
        "    valid_loss = np.average(valid_losses)\n",
        "    valid_losses = [] \n",
        "    mse_train, corr_train = process.calc_stats(y_train_tensor.detach(), model(X_train_tensor).detach())\n",
        "    mse_test, corr_test = process.calc_stats(Y_test.detach(), model(X_test).detach())\n",
        "    if epoch_idx%5==0:\n",
        "        process.show_stats(Y_test, model(X_test))\n",
        "    early_stopping(valid_loss, model)\n",
        "    if early_stopping.early_stop:\n",
        "        print(\"Early stopping\")\n",
        "        break\n",
        "model.load_state_dict(torch.load('checkpoint.pt'))"
      ],
      "execution_count": 21,
      "outputs": [
        {
          "output_type": "display_data",
          "data": {
            "application/vnd.jupyter.widget-view+json": {
              "model_id": "cd5eb93687884cdeaa2a852ec8ac49f5",
              "version_minor": 0,
              "version_major": 2
            },
            "text/plain": [
              "HBox(children=(FloatProgress(value=0.0, max=500.0), HTML(value='')))"
            ]
          },
          "metadata": {
            "tags": []
          }
        },
        {
          "output_type": "stream",
          "text": [
            "MSE:  1.0002776384353638\n",
            "Mean Correlation:  0.0019327180925756693\n",
            "Validation loss decreased (inf --> 0.984403).  Saving model ...\n",
            "EarlyStopping counter: 1 out of 20\n",
            "EarlyStopping counter: 2 out of 20\n",
            "EarlyStopping counter: 3 out of 20\n",
            "EarlyStopping counter: 4 out of 20\n",
            "MSE:  1.0009456872940063\n",
            "Mean Correlation:  0.023691123351454735\n",
            "Validation loss decreased (0.984403 --> 0.944434).  Saving model ...\n",
            "EarlyStopping counter: 1 out of 20\n",
            "Validation loss decreased (0.944434 --> 0.943070).  Saving model ...\n",
            "EarlyStopping counter: 1 out of 20\n",
            "Validation loss decreased (0.943070 --> 0.941554).  Saving model ...\n",
            "MSE:  1.0624821186065674\n",
            "Mean Correlation:  0.019158270210027695\n",
            "EarlyStopping counter: 1 out of 20\n",
            "EarlyStopping counter: 2 out of 20\n",
            "EarlyStopping counter: 3 out of 20\n",
            "EarlyStopping counter: 4 out of 20\n",
            "EarlyStopping counter: 5 out of 20\n",
            "MSE:  1.0166431665420532\n",
            "Mean Correlation:  0.02591979317367077\n",
            "Validation loss decreased (0.941554 --> 0.930188).  Saving model ...\n",
            "EarlyStopping counter: 1 out of 20\n",
            "EarlyStopping counter: 2 out of 20\n",
            "EarlyStopping counter: 3 out of 20\n",
            "Validation loss decreased (0.930188 --> 0.921598).  Saving model ...\n",
            "MSE:  1.0144071578979492\n",
            "Mean Correlation:  0.05741731449961662\n",
            "Validation loss decreased (0.921598 --> 0.904048).  Saving model ...\n",
            "EarlyStopping counter: 1 out of 20\n",
            "Validation loss decreased (0.904048 --> 0.885932).  Saving model ...\n",
            "EarlyStopping counter: 1 out of 20\n",
            "EarlyStopping counter: 2 out of 20\n",
            "MSE:  1.020721197128296\n",
            "Mean Correlation:  0.058572448790073395\n",
            "Validation loss decreased (0.885932 --> 0.856573).  Saving model ...\n",
            "EarlyStopping counter: 1 out of 20\n",
            "Validation loss decreased (0.856573 --> 0.855039).  Saving model ...\n",
            "EarlyStopping counter: 1 out of 20\n",
            "EarlyStopping counter: 2 out of 20\n",
            "MSE:  1.0061055421829224\n",
            "Mean Correlation:  0.07991331815719604\n",
            "EarlyStopping counter: 3 out of 20\n",
            "Validation loss decreased (0.855039 --> 0.842086).  Saving model ...\n",
            "EarlyStopping counter: 1 out of 20\n",
            "EarlyStopping counter: 2 out of 20\n",
            "EarlyStopping counter: 3 out of 20\n",
            "MSE:  1.0104851722717285\n",
            "Mean Correlation:  0.08150599151849747\n",
            "EarlyStopping counter: 4 out of 20\n",
            "EarlyStopping counter: 5 out of 20\n",
            "EarlyStopping counter: 6 out of 20\n",
            "EarlyStopping counter: 7 out of 20\n",
            "EarlyStopping counter: 8 out of 20\n",
            "MSE:  1.02109694480896\n",
            "Mean Correlation:  0.07424014806747437\n",
            "Validation loss decreased (0.842086 --> 0.825417).  Saving model ...\n",
            "EarlyStopping counter: 1 out of 20\n",
            "EarlyStopping counter: 2 out of 20\n",
            "EarlyStopping counter: 3 out of 20\n",
            "Validation loss decreased (0.825417 --> 0.817351).  Saving model ...\n",
            "MSE:  1.0159085988998413\n",
            "Mean Correlation:  0.07526545971632004\n",
            "EarlyStopping counter: 1 out of 20\n",
            "EarlyStopping counter: 2 out of 20\n",
            "EarlyStopping counter: 3 out of 20\n",
            "Validation loss decreased (0.817351 --> 0.806309).  Saving model ...\n",
            "EarlyStopping counter: 1 out of 20\n",
            "MSE:  1.017554521560669\n",
            "Mean Correlation:  0.07728129625320435\n",
            "Validation loss decreased (0.806309 --> 0.786803).  Saving model ...\n",
            "EarlyStopping counter: 1 out of 20\n",
            "EarlyStopping counter: 2 out of 20\n",
            "EarlyStopping counter: 3 out of 20\n",
            "EarlyStopping counter: 4 out of 20\n",
            "MSE:  1.021483302116394\n",
            "Mean Correlation:  0.07636360824108124\n",
            "EarlyStopping counter: 5 out of 20\n",
            "EarlyStopping counter: 6 out of 20\n",
            "EarlyStopping counter: 7 out of 20\n",
            "EarlyStopping counter: 8 out of 20\n",
            "Validation loss decreased (0.786803 --> 0.755691).  Saving model ...\n",
            "MSE:  1.0246564149856567\n",
            "Mean Correlation:  0.07933123409748077\n",
            "EarlyStopping counter: 1 out of 20\n",
            "EarlyStopping counter: 2 out of 20\n",
            "Validation loss decreased (0.755691 --> 0.748197).  Saving model ...\n",
            "EarlyStopping counter: 1 out of 20\n",
            "EarlyStopping counter: 2 out of 20\n",
            "MSE:  1.0267194509506226\n",
            "Mean Correlation:  0.07920680940151215\n",
            "EarlyStopping counter: 3 out of 20\n",
            "EarlyStopping counter: 4 out of 20\n",
            "EarlyStopping counter: 5 out of 20\n",
            "EarlyStopping counter: 6 out of 20\n",
            "EarlyStopping counter: 7 out of 20\n",
            "MSE:  1.0305149555206299\n",
            "Mean Correlation:  0.0771823599934578\n",
            "EarlyStopping counter: 8 out of 20\n",
            "EarlyStopping counter: 9 out of 20\n",
            "EarlyStopping counter: 10 out of 20\n",
            "EarlyStopping counter: 11 out of 20\n",
            "EarlyStopping counter: 12 out of 20\n",
            "MSE:  1.0506069660186768\n",
            "Mean Correlation:  0.0761730894446373\n",
            "EarlyStopping counter: 13 out of 20\n",
            "EarlyStopping counter: 14 out of 20\n",
            "EarlyStopping counter: 15 out of 20\n",
            "EarlyStopping counter: 16 out of 20\n",
            "EarlyStopping counter: 17 out of 20\n",
            "MSE:  1.0366904735565186\n",
            "Mean Correlation:  0.07768332213163376\n",
            "Validation loss decreased (0.748197 --> 0.730317).  Saving model ...\n",
            "EarlyStopping counter: 1 out of 20\n",
            "EarlyStopping counter: 2 out of 20\n",
            "EarlyStopping counter: 3 out of 20\n",
            "EarlyStopping counter: 4 out of 20\n",
            "MSE:  1.042669653892517\n",
            "Mean Correlation:  0.07632727175951004\n",
            "EarlyStopping counter: 5 out of 20\n",
            "EarlyStopping counter: 6 out of 20\n",
            "EarlyStopping counter: 7 out of 20\n",
            "Validation loss decreased (0.730317 --> 0.728105).  Saving model ...\n",
            "EarlyStopping counter: 1 out of 20\n",
            "MSE:  1.0425570011138916\n",
            "Mean Correlation:  0.07640402019023895\n",
            "Validation loss decreased (0.728105 --> 0.708756).  Saving model ...\n",
            "Validation loss decreased (0.708756 --> 0.701102).  Saving model ...\n",
            "EarlyStopping counter: 1 out of 20\n",
            "EarlyStopping counter: 2 out of 20\n",
            "Validation loss decreased (0.701102 --> 0.700939).  Saving model ...\n",
            "MSE:  1.0569415092468262\n",
            "Mean Correlation:  0.07158925384283066\n",
            "EarlyStopping counter: 1 out of 20\n",
            "EarlyStopping counter: 2 out of 20\n",
            "EarlyStopping counter: 3 out of 20\n",
            "EarlyStopping counter: 4 out of 20\n",
            "EarlyStopping counter: 5 out of 20\n",
            "MSE:  1.0475311279296875\n",
            "Mean Correlation:  0.07458317279815674\n",
            "EarlyStopping counter: 6 out of 20\n",
            "Validation loss decreased (0.700939 --> 0.691436).  Saving model ...\n",
            "EarlyStopping counter: 1 out of 20\n",
            "Validation loss decreased (0.691436 --> 0.690836).  Saving model ...\n",
            "EarlyStopping counter: 1 out of 20\n",
            "MSE:  1.055021047592163\n",
            "Mean Correlation:  0.07494454830884933\n",
            "Validation loss decreased (0.690836 --> 0.683164).  Saving model ...\n",
            "EarlyStopping counter: 1 out of 20\n",
            "EarlyStopping counter: 2 out of 20\n",
            "EarlyStopping counter: 3 out of 20\n",
            "EarlyStopping counter: 4 out of 20\n",
            "MSE:  1.065006136894226\n",
            "Mean Correlation:  0.07560908049345016\n",
            "EarlyStopping counter: 5 out of 20\n",
            "EarlyStopping counter: 6 out of 20\n",
            "EarlyStopping counter: 7 out of 20\n",
            "EarlyStopping counter: 8 out of 20\n",
            "EarlyStopping counter: 9 out of 20\n",
            "MSE:  1.0555473566055298\n",
            "Mean Correlation:  0.07555586099624634\n",
            "EarlyStopping counter: 10 out of 20\n",
            "Validation loss decreased (0.683164 --> 0.668716).  Saving model ...\n",
            "EarlyStopping counter: 1 out of 20\n",
            "EarlyStopping counter: 2 out of 20\n",
            "EarlyStopping counter: 3 out of 20\n",
            "MSE:  1.062848448753357\n",
            "Mean Correlation:  0.07255500555038452\n",
            "EarlyStopping counter: 4 out of 20\n",
            "EarlyStopping counter: 5 out of 20\n",
            "EarlyStopping counter: 6 out of 20\n",
            "Validation loss decreased (0.668716 --> 0.665268).  Saving model ...\n",
            "EarlyStopping counter: 1 out of 20\n",
            "MSE:  1.068984031677246\n",
            "Mean Correlation:  0.07263636589050293\n",
            "EarlyStopping counter: 2 out of 20\n",
            "Validation loss decreased (0.665268 --> 0.659680).  Saving model ...\n",
            "Validation loss decreased (0.659680 --> 0.649936).  Saving model ...\n",
            "EarlyStopping counter: 1 out of 20\n",
            "EarlyStopping counter: 2 out of 20\n",
            "MSE:  1.066296935081482\n",
            "Mean Correlation:  0.07154058665037155\n",
            "EarlyStopping counter: 3 out of 20\n",
            "EarlyStopping counter: 4 out of 20\n",
            "EarlyStopping counter: 5 out of 20\n",
            "EarlyStopping counter: 6 out of 20\n",
            "EarlyStopping counter: 7 out of 20\n",
            "MSE:  1.0729588270187378\n",
            "Mean Correlation:  0.07147806137800217\n",
            "EarlyStopping counter: 8 out of 20\n",
            "EarlyStopping counter: 9 out of 20\n",
            "EarlyStopping counter: 10 out of 20\n",
            "EarlyStopping counter: 11 out of 20\n",
            "EarlyStopping counter: 12 out of 20\n",
            "MSE:  1.076759696006775\n",
            "Mean Correlation:  0.07061044871807098\n",
            "Validation loss decreased (0.649936 --> 0.632762).  Saving model ...\n",
            "EarlyStopping counter: 1 out of 20\n",
            "EarlyStopping counter: 2 out of 20\n",
            "EarlyStopping counter: 3 out of 20\n",
            "Validation loss decreased (0.632762 --> 0.622585).  Saving model ...\n",
            "MSE:  1.0784119367599487\n",
            "Mean Correlation:  0.0702541396021843\n",
            "Validation loss decreased (0.622585 --> 0.608932).  Saving model ...\n",
            "EarlyStopping counter: 1 out of 20\n",
            "EarlyStopping counter: 2 out of 20\n",
            "EarlyStopping counter: 3 out of 20\n",
            "EarlyStopping counter: 4 out of 20\n",
            "MSE:  1.0875239372253418\n",
            "Mean Correlation:  0.06808602064847946\n",
            "EarlyStopping counter: 5 out of 20\n",
            "EarlyStopping counter: 6 out of 20\n",
            "EarlyStopping counter: 7 out of 20\n",
            "EarlyStopping counter: 8 out of 20\n",
            "EarlyStopping counter: 9 out of 20\n",
            "MSE:  1.0838323831558228\n",
            "Mean Correlation:  0.0696132481098175\n",
            "EarlyStopping counter: 10 out of 20\n",
            "EarlyStopping counter: 11 out of 20\n",
            "EarlyStopping counter: 12 out of 20\n",
            "EarlyStopping counter: 13 out of 20\n",
            "EarlyStopping counter: 14 out of 20\n",
            "MSE:  1.0859686136245728\n",
            "Mean Correlation:  0.07068261504173279\n",
            "EarlyStopping counter: 15 out of 20\n",
            "EarlyStopping counter: 16 out of 20\n",
            "EarlyStopping counter: 17 out of 20\n",
            "EarlyStopping counter: 18 out of 20\n",
            "EarlyStopping counter: 19 out of 20\n",
            "MSE:  1.0891703367233276\n",
            "Mean Correlation:  0.07006984949111938\n",
            "EarlyStopping counter: 20 out of 20\n",
            "Early stopping\n"
          ],
          "name": "stdout"
        },
        {
          "output_type": "execute_result",
          "data": {
            "text/plain": [
              "<All keys matched successfully>"
            ]
          },
          "metadata": {
            "tags": []
          },
          "execution_count": 21
        }
      ]
    },
    {
      "cell_type": "code",
      "metadata": {
        "colab": {
          "base_uri": "https://localhost:8080/",
          "height": 332
        },
        "id": "UkfQx-DhtUxl",
        "outputId": "0b420259-f315-4520-b113-8fe35103b5cd"
      },
      "source": [
        "process.show_stats(Y_test, model(X_test), show_vox_corr_hist=True)"
      ],
      "execution_count": 22,
      "outputs": [
        {
          "output_type": "stream",
          "text": [
            "MSE:  1.0784119367599487\n",
            "Mean Correlation:  0.0702541396021843\n"
          ],
          "name": "stdout"
        },
        {
          "output_type": "display_data",
          "data": {
            "image/png": "[encoded data removed]",
            "text/plain": [
              "<Figure size 432x288 with 1 Axes>"
            ]
          },
          "metadata": {
            "tags": [],
            "needs_background": "light"
          }
        },
        {
          "output_type": "execute_result",
          "data": {
            "text/plain": [
              "(1.0784119367599487, 0.0702541396021843)"
            ]
          },
          "metadata": {
            "tags": []
          },
          "execution_count": 22
        }
      ]
    }
  ]
}