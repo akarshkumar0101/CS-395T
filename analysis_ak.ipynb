{
 "cells": [
  {
   "cell_type": "code",
   "execution_count": 1,
   "metadata": {},
   "outputs": [],
   "source": [
    "%load_ext autoreload\n",
    "%autoreload 2"
   ]
  },
  {
   "cell_type": "code",
   "execution_count": 2,
   "metadata": {},
   "outputs": [],
   "source": [
    "import numpy as np\n",
    "import matplotlib.pyplot as plt\n",
    "import torch\n",
    "from tqdm.notebook import tqdm\n",
    "\n",
    "import process\n",
    "\n",
    "\n",
    "device = torch.device('cuda' if torch.cuda.is_available() else 'cpu')"
   ]
  },
  {
   "cell_type": "code",
   "execution_count": 3,
   "metadata": {},
   "outputs": [
    {
     "name": "stdout",
     "output_type": "stream",
     "text": [
      "Doing lanczos interpolation with cutoff=0.499 and 3 lobes.\n",
      "Doing lanczos interpolation with cutoff=0.499 and 3 lobes.\n",
      "Doing lanczos interpolation with cutoff=0.499 and 3 lobes.\n",
      "Doing lanczos interpolation with cutoff=0.499 and 3 lobes.\n",
      "Doing lanczos interpolation with cutoff=0.499 and 3 lobes.\n",
      "Doing lanczos interpolation with cutoff=0.499 and 3 lobes.\n",
      "Doing lanczos interpolation with cutoff=0.499 and 3 lobes.\n",
      "Doing lanczos interpolation with cutoff=0.499 and 3 lobes.\n",
      "Doing lanczos interpolation with cutoff=0.499 and 3 lobes.\n",
      "Doing lanczos interpolation with cutoff=0.499 and 3 lobes.\n",
      "Doing lanczos interpolation with cutoff=0.499 and 3 lobes.\n"
     ]
    }
   ],
   "source": [
    "X_train, X_val, X_test, Y_train, Y_val, Y_test, mask = process.load_data()"
   ]
  },
  {
   "cell_type": "code",
   "execution_count": 4,
   "metadata": {},
   "outputs": [],
   "source": [
    "X_train = X_train.to(device)\n",
    "X_val = X_val.to(device)\n",
    "X_test = X_test.to(device)\n",
    "Y_train = Y_train.to(device)\n",
    "Y_val = Y_val.to(device)\n",
    "Y_test = Y_test.to(device)"
   ]
  },
  {
   "cell_type": "code",
   "execution_count": 5,
   "metadata": {},
   "outputs": [],
   "source": [
    "class AKModel(torch.nn.Module):\n",
    "    def __init__(self):\n",
    "        super().__init__()\n",
    "        d_in, d_out= X_train.shape[-1], Y_train.shape[-1]\n",
    "        self.linear = torch.nn.Linear(d_in, d_out)\n",
    "        self.deep1 = torch.nn.Sequential(torch.nn.Linear(d_in, 1000),\n",
    "                                         torch.nn.Sigmoid(),\n",
    "                                         torch.nn.Linear(1000, 1000),\n",
    "                                         torch.nn.Sigmoid(),\n",
    "                                         torch.nn.Linear(1000, 1000),\n",
    "                                         torch.nn.Sigmoid(),\n",
    "                                         torch.nn.Linear(1000, d_out))\n",
    "        self.deep1 = torch.nn.Sequential(torch.nn.Linear(d_in, 1000),\n",
    "                                         torch.nn.Linear(1000, d_out))\n",
    "        \n",
    "        self.deep2 = torch.nn.Sequential(torch.nn.Linear(d_in, 1000),\n",
    "                                         torch.nn.Sigmoid(),\n",
    "                                         torch.nn.Linear(1000, d_out))\n",
    "        \n",
    "    def forward(self, X):\n",
    "#         Y = self.linear(X) + self.deep1(X)\n",
    "        Y = self.deep1(X) + self.deep2(X)\n",
    "        return Y"
   ]
  },
  {
   "cell_type": "code",
   "execution_count": 6,
   "metadata": {},
   "outputs": [],
   "source": [
    "model = AKModel().to(device)"
   ]
  },
  {
   "cell_type": "code",
   "execution_count": 7,
   "metadata": {},
   "outputs": [
    {
     "data": {
      "application/vnd.jupyter.widget-view+json": {
       "model_id": "4a6307c56e61408285455351b561fcd1",
       "version_major": 2,
       "version_minor": 0
      },
      "text/plain": [
       "HBox(children=(FloatProgress(value=0.0, max=1000.0), HTML(value='')))"
      ]
     },
     "metadata": {},
     "output_type": "display_data"
    },
    {
     "name": "stdout",
     "output_type": "stream",
     "text": [
      "MSE:  1.1722712516784668\n",
      "Mean Correlation:  0.0043732766062021255\n",
      "MSE:  1.0577479600906372\n",
      "Mean Correlation:  0.045521628111600876\n",
      "MSE:  1.0779218673706055\n",
      "Mean Correlation:  0.060286231338977814\n",
      "MSE:  1.0722604990005493\n",
      "Mean Correlation:  0.0743066668510437\n",
      "MSE:  1.0942376852035522\n",
      "Mean Correlation:  0.0717579647898674\n",
      "MSE:  1.1545929908752441\n",
      "Mean Correlation:  0.06225591152906418\n",
      "MSE:  1.2089258432388306\n",
      "Mean Correlation:  0.05678602308034897\n",
      "\n"
     ]
    },
    {
     "ename": "KeyboardInterrupt",
     "evalue": "",
     "output_type": "error",
     "traceback": [
      "\u001b[0;31m---------------------------------------------------------------------------\u001b[0m",
      "\u001b[0;31mKeyboardInterrupt\u001b[0m                         Traceback (most recent call last)",
      "\u001b[0;32m<ipython-input-7-091599b0584b>\u001b[0m in \u001b[0;36m<module>\u001b[0;34m\u001b[0m\n\u001b[1;32m     11\u001b[0m     \u001b[0mall_batch_idxs\u001b[0m \u001b[0;34m=\u001b[0m \u001b[0;34m[\u001b[0m\u001b[0mall_idxs\u001b[0m\u001b[0;34m[\u001b[0m\u001b[0mi\u001b[0m\u001b[0;34m:\u001b[0m \u001b[0mi\u001b[0m\u001b[0;34m+\u001b[0m\u001b[0mbs\u001b[0m\u001b[0;34m]\u001b[0m \u001b[0;32mfor\u001b[0m \u001b[0mi\u001b[0m \u001b[0;32min\u001b[0m \u001b[0mrange\u001b[0m\u001b[0;34m(\u001b[0m\u001b[0;36m0\u001b[0m\u001b[0;34m,\u001b[0m \u001b[0mlen\u001b[0m\u001b[0;34m(\u001b[0m\u001b[0mall_idxs\u001b[0m\u001b[0;34m)\u001b[0m\u001b[0;34m,\u001b[0m \u001b[0mbs\u001b[0m\u001b[0;34m)\u001b[0m\u001b[0;34m]\u001b[0m\u001b[0;34m\u001b[0m\u001b[0;34m\u001b[0m\u001b[0m\n\u001b[1;32m     12\u001b[0m     \u001b[0;32mfor\u001b[0m \u001b[0mbatch_idxs\u001b[0m \u001b[0;32min\u001b[0m \u001b[0;34m(\u001b[0m\u001b[0mall_batch_idxs\u001b[0m\u001b[0;34m)\u001b[0m\u001b[0;34m:\u001b[0m\u001b[0;34m\u001b[0m\u001b[0;34m\u001b[0m\u001b[0m\n\u001b[0;32m---> 13\u001b[0;31m         \u001b[0mX_batch\u001b[0m \u001b[0;34m=\u001b[0m \u001b[0mX_train\u001b[0m\u001b[0;34m[\u001b[0m\u001b[0mbatch_idxs\u001b[0m\u001b[0;34m]\u001b[0m\u001b[0;34m\u001b[0m\u001b[0;34m\u001b[0m\u001b[0m\n\u001b[0m\u001b[1;32m     14\u001b[0m         \u001b[0mY_batch\u001b[0m \u001b[0;34m=\u001b[0m \u001b[0mY_train\u001b[0m\u001b[0;34m[\u001b[0m\u001b[0mbatch_idxs\u001b[0m\u001b[0;34m]\u001b[0m\u001b[0;34m\u001b[0m\u001b[0;34m\u001b[0m\u001b[0m\n\u001b[1;32m     15\u001b[0m         \u001b[0mY_batch_pred\u001b[0m \u001b[0;34m=\u001b[0m \u001b[0mmodel\u001b[0m\u001b[0;34m(\u001b[0m\u001b[0mX_batch\u001b[0m\u001b[0;34m)\u001b[0m\u001b[0;34m\u001b[0m\u001b[0;34m\u001b[0m\u001b[0m\n",
      "\u001b[0;31mKeyboardInterrupt\u001b[0m: "
     ]
    }
   ],
   "source": [
    "# model = torch.nn.Sequential(torch.nn.Linear(delRstim.shape[-1], mask.sum())).to(device)\n",
    "\n",
    "# opt = torch.optim.SGD(model.parameters(), lr=3e1, weight_decay=1e-4)\n",
    "# opt = torch.optim.SGD(model.parameters(), lr=6e1)\n",
    "opt = torch.optim.Adam(model.parameters(), lr=1e-3)\n",
    "\n",
    "bs = 4000\n",
    "all_idxs = range(len(X_train))\n",
    "\n",
    "for epoch_idx in tqdm(range(1000)[:1000]):\n",
    "    all_batch_idxs = [all_idxs[i: i+bs] for i in range(0, len(all_idxs), bs)]\n",
    "    for batch_idxs in (all_batch_idxs):\n",
    "        X_batch = X_train[batch_idxs]\n",
    "        Y_batch = Y_train[batch_idxs]\n",
    "        Y_batch_pred = model(X_batch)\n",
    "    \n",
    "        loss = (Y_batch-Y_batch_pred).pow(2).mean()\n",
    "        \n",
    "        \n",
    "        Y_test_pred = model(X_test)\n",
    "        loss_test = (Y_test-Y_test_pred).pow(2).mean()\n",
    "        \n",
    "        opt.zero_grad()\n",
    "        loss.backward()\n",
    "#         print('grad')\n",
    "#         print(list(model.parameters())[0].grad.max())\n",
    "        opt.step()\n",
    "        loss = loss.detach()\n",
    "        \n",
    "    mse_train, corr_train = process.calc_stats(Y_batch.detach(), model(X_batch).detach())\n",
    "    mse_test, corr_test = process.calc_stats(Y_test.detach(), model(X_test).detach())\n",
    "    if epoch_idx%5==0:\n",
    "        process.show_stats(Y_test, model(X_test))"
   ]
  },
  {
   "cell_type": "code",
   "execution_count": 8,
   "metadata": {},
   "outputs": [
    {
     "name": "stdout",
     "output_type": "stream",
     "text": [
      "MSE:  1.2332831621170044\n",
      "Mean Correlation:  0.05668220296502113\n"
     ]
    },
    {
     "data": {
      "image/png": "[encoded data removed]",
      "text/plain": [
       "<Figure size 432x288 with 1 Axes>"
      ]
     },
     "metadata": {
      "needs_background": "light"
     },
     "output_type": "display_data"
    }
   ],
   "source": [
    "process.show_stats(Y_test, model(X_test), show_vox_corr_hist=True)"
   ]
  },
  {
   "cell_type": "code",
   "execution_count": null,
   "metadata": {},
   "outputs": [],
   "source": []
  },
  {
   "cell_type": "code",
   "execution_count": null,
   "metadata": {},
   "outputs": [],
   "source": []
  },
  {
   "cell_type": "code",
   "execution_count": null,
   "metadata": {},
   "outputs": [],
   "source": []
  }
 ],
 "metadata": {
  "kernelspec": {
   "display_name": "Python 3",
   "language": "python",
   "name": "python3"
  },
  "language_info": {
   "codemirror_mode": {
    "name": "ipython",
    "version": 3
   },
   "file_extension": ".py",
   "mimetype": "text/x-python",
   "name": "python",
   "nbconvert_exporter": "python",
   "pygments_lexer": "ipython3",
   "version": "3.7.5"
  }
 },
 "nbformat": 4,
 "nbformat_minor": 4
}
