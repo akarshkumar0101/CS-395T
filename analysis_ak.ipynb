{
 "cells": [
  {
   "cell_type": "code",
   "execution_count": 1,
   "metadata": {},
   "outputs": [],
   "source": [
    "%load_ext autoreload\n",
    "%autoreload 2"
   ]
  },
  {
   "cell_type": "code",
   "execution_count": 2,
   "metadata": {},
   "outputs": [],
   "source": [
    "import numpy as np\n",
    "import matplotlib.pyplot as plt\n",
    "import torch\n",
    "from tqdm.notebook import tqdm\n",
    "\n",
    "import process\n",
    "\n",
    "device = torch.device('cuda' if torch.cuda.is_available() else 'cpu')\n",
    "\n",
    "use_bert = True"
   ]
  },
  {
   "cell_type": "markdown",
   "metadata": {},
   "source": [
    "# Baseline Ridge Regression Encoding Model"
   ]
  },
  {
   "cell_type": "code",
   "execution_count": 3,
   "metadata": {},
   "outputs": [
    {
     "name": "stdout",
     "output_type": "stream",
     "text": [
      "Doing lanczos interpolation with cutoff=0.499 and 3 lobes.\n",
      "Doing lanczos interpolation with cutoff=0.499 and 3 lobes.\n",
      "Doing lanczos interpolation with cutoff=0.499 and 3 lobes.\n",
      "Doing lanczos interpolation with cutoff=0.499 and 3 lobes.\n",
      "Doing lanczos interpolation with cutoff=0.499 and 3 lobes.\n",
      "Doing lanczos interpolation with cutoff=0.499 and 3 lobes.\n",
      "Doing lanczos interpolation with cutoff=0.499 and 3 lobes.\n",
      "Doing lanczos interpolation with cutoff=0.499 and 3 lobes.\n",
      "Doing lanczos interpolation with cutoff=0.499 and 3 lobes.\n",
      "Doing lanczos interpolation with cutoff=0.499 and 3 lobes.\n",
      "Doing lanczos interpolation with cutoff=0.499 and 3 lobes.\n"
     ]
    }
   ],
   "source": [
    "X_train, X_test, Y_train, Y_test, mask = process.load_data(use_bert_embeddings=use_bert,\n",
    "                                                           keep_hrf_shape=False, make_validation_set=False)"
   ]
  },
  {
   "cell_type": "code",
   "execution_count": 4,
   "metadata": {},
   "outputs": [],
   "source": [
    "# Run regression\n",
    "from ridge import bootstrap_ridge\n",
    "alphas = np.logspace(1, 3, 10) # Equally log-spaced alphas between 10 and 1000. The third number is the number of alphas to test.\n",
    "nboots = 1 # Number of cross-validation runs.\n",
    "chunklen = 40 # \n",
    "nchunks = 20\n",
    "\n",
    "wt, corr, alphas, bscorrs, valinds = bootstrap_ridge(X_train.numpy(), Y_train.numpy(), X_test.numpy(), Y_test.numpy(),\n",
    "                                                     alphas, nboots, chunklen, nchunks,\n",
    "                                                     singcutoff=1e-10, single_alpha=True)"
   ]
  },
  {
   "cell_type": "code",
   "execution_count": 5,
   "metadata": {},
   "outputs": [
    {
     "name": "stdout",
     "output_type": "stream",
     "text": [
      "MSE: 0.98920, MC: 9.242%\n"
     ]
    },
    {
     "data": {
      "image/png": "[encoded data removed]",
      "text/plain": [
       "<Figure size 432x288 with 1 Axes>"
      ]
     },
     "metadata": {
      "needs_background": "light"
     },
     "output_type": "display_data"
    },
    {
     "data": {
      "text/plain": [
       "(0.9891954660415649, 0.09241839498281479)"
      ]
     },
     "execution_count": 5,
     "metadata": {},
     "output_type": "execute_result"
    }
   ],
   "source": [
    "Y_test_pred = X_test@torch.from_numpy(wt).float()\n",
    "process.show_stats(Y_test, Y_test_pred, show_vox_corr_hist=True)"
   ]
  },
  {
   "cell_type": "markdown",
   "metadata": {},
   "source": [
    "# Deep Encoding Models"
   ]
  },
  {
   "cell_type": "code",
   "execution_count": 6,
   "metadata": {},
   "outputs": [
    {
     "name": "stdout",
     "output_type": "stream",
     "text": [
      "Doing lanczos interpolation with cutoff=0.499 and 3 lobes.\n",
      "Doing lanczos interpolation with cutoff=0.499 and 3 lobes.\n",
      "Doing lanczos interpolation with cutoff=0.499 and 3 lobes.\n",
      "Doing lanczos interpolation with cutoff=0.499 and 3 lobes.\n",
      "Doing lanczos interpolation with cutoff=0.499 and 3 lobes.\n",
      "Doing lanczos interpolation with cutoff=0.499 and 3 lobes.\n",
      "Doing lanczos interpolation with cutoff=0.499 and 3 lobes.\n",
      "Doing lanczos interpolation with cutoff=0.499 and 3 lobes.\n",
      "Doing lanczos interpolation with cutoff=0.499 and 3 lobes.\n",
      "Doing lanczos interpolation with cutoff=0.499 and 3 lobes.\n",
      "Doing lanczos interpolation with cutoff=0.499 and 3 lobes.\n"
     ]
    }
   ],
   "source": [
    "X_train, X_val, X_test, Y_train, Y_val, Y_test, mask = process.load_data(use_bert_embeddings=use_bert, keep_hrf_shape=True, make_validation_set=True)\n",
    "X_train, X_val, X_test, Y_train, Y_val, Y_test = [x.to(device) for x in \n",
    "                                                  [X_train, X_val, X_test, Y_train, Y_val, Y_test]]\n",
    "X_train = torch.cat([X_train, X_val], dim=0)\n",
    "Y_train = torch.cat([Y_train, Y_val], dim=0)"
   ]
  },
  {
   "cell_type": "code",
   "execution_count": 7,
   "metadata": {},
   "outputs": [],
   "source": [
    "def train_model(model, opt, X_train, Y_train, bs=500, epochs=3):\n",
    "    all_idxs = range(len(X_train))\n",
    "\n",
    "    for epoch_idx in tqdm(range(epochs)):\n",
    "        all_batch_idxs = [all_idxs[i: i+bs] for i in range(0, len(all_idxs), bs)]\n",
    "        for batch_idxs in (all_batch_idxs):\n",
    "            X_batch = X_train[batch_idxs]\n",
    "            Y_batch = Y_train[batch_idxs]\n",
    "            Y_batch_pred = model(X_batch)\n",
    "\n",
    "            se, voxcorrs = process.calc_stats(Y_batch, Y_batch_pred)\n",
    "    #         loss = se.mean()\n",
    "            loss = -voxcorrs.mean()\n",
    "\n",
    "            Y_test_pred = model(X_test)\n",
    "            loss_test = (Y_test-Y_test_pred).pow(2).mean()\n",
    "\n",
    "            opt.zero_grad()\n",
    "            loss.backward()\n",
    "            opt.step()\n",
    "            loss = loss.detach()\n",
    "\n",
    "    #     mse_train, corr_train = process.calc_stats(Y_batch.detach(), model(X_batch).detach())\n",
    "    #     mse_val, corr_val = process.calc_stats(Y_val.detach(), model(X_val).detach())\n",
    "\n",
    "        if epoch_idx%1==0:\n",
    "            print('Training set')\n",
    "            process.show_stats(Y_batch, Y_batch_pred)\n",
    "            print('Validation set')\n",
    "            process.show_stats(Y_val, model(X_val))\n",
    "            print('Testing set')\n",
    "            process.show_stats(Y_test, model(X_test))\n",
    "            print()\n",
    "            print()\n",
    "        del Y_batch_pred, se, voxcorrs, loss"
   ]
  },
  {
   "cell_type": "code",
   "execution_count": 8,
   "metadata": {},
   "outputs": [],
   "source": [
    "class AKModel(torch.nn.Module):\n",
    "    def __init__(self):\n",
    "        super().__init__()\n",
    "        d_in, d_out= np.prod(X_train.shape[-2:]), Y_train.shape[-1]\n",
    "        self.linear = torch.nn.Linear(d_in, d_out)\n",
    "#         self.deep1 = torch.nn.Sequential(torch.nn.Linear(d_in, 1000),\n",
    "#                                          torch.nn.Sigmoid(),\n",
    "#                                          torch.nn.Linear(1000, 1000),\n",
    "#                                          torch.nn.Sigmoid(),\n",
    "#                                          torch.nn.Linear(1000, 1000),\n",
    "#                                          torch.nn.Sigmoid(),\n",
    "#                                          torch.nn.Linear(1000, d_out))\n",
    "        \n",
    "        self.deep1 = torch.nn.Sequential(torch.nn.Linear(d_in, 1000),\n",
    "                                         torch.nn.Linear(1000, d_out))\n",
    "        \n",
    "        self.deep2 = torch.nn.Sequential(torch.nn.Linear(d_in, 100),\n",
    "                                         torch.nn.ReLU(),\n",
    "                                         torch.nn.Linear(100, d_out))\n",
    "        \n",
    "        self.deep3 = torch.nn.Sequential(torch.nn.Linear(d_in, 100),\n",
    "                                         torch.nn.ReLU(),\n",
    "                                         torch.nn.Linear(100, 100),\n",
    "                                         torch.nn.ReLU(),\n",
    "                                         torch.nn.Linear(100, 100),\n",
    "                                         torch.nn.ReLU(),\n",
    "                                         torch.nn.Linear(100, 100),\n",
    "                                         torch.nn.ReLU(),\n",
    "                                         torch.nn.Linear(100, 100),\n",
    "                                         torch.nn.ReLU(),\n",
    "                                         torch.nn.Linear(100, d_out))\n",
    "        \n",
    "    def forward(self, X):\n",
    "#         Y = self.linear(X)\n",
    "#         Y = self.linear(X) + self.deep1(X) + self.deep2(X) + self.deep3(X)\n",
    "        X = X.reshape(X.shape[0], -1)\n",
    "        Y = self.deep1(X) + self.deep2(X) + self.deep3(X)\n",
    "#         Y = self.deep1(X) + self.deep3(X)\n",
    "        return Y\n",
    "\n",
    "class HRFAttention(torch.nn.Module):\n",
    "    def __init__(self):\n",
    "        super().__init__()\n",
    "        d_in, d_out= X_train.shape[-2], Y_train.shape[-1]\n",
    "        self.mask = torch.nn.Sequential(torch.nn.Linear(d_in*4, 100),\n",
    "                                         torch.nn.Sigmoid(),\n",
    "                                         torch.nn.Linear(100, 100),\n",
    "                                         torch.nn.Sigmoid(),\n",
    "                                         torch.nn.Linear(100, 4),\n",
    "                                         torch.nn.Softmax(dim=-1))\n",
    "        \n",
    "        self.deep1 = torch.nn.Sequential(torch.nn.Linear(d_in, 4000),\n",
    "                                         torch.nn.Linear(4000, d_out))\n",
    "        \n",
    "        \n",
    "        self.deep2 = torch.nn.Sequential(torch.nn.Linear(d_in, 100),\n",
    "                                         torch.nn.ReLU(),\n",
    "                                         torch.nn.Linear(100, d_out))\n",
    "        \n",
    "#         self.attmod = torch.nn.Parameter(torch.randn(4, 37226)*1e-2)\n",
    "        \n",
    "        \n",
    "    def forward(self, X):\n",
    "        X = X.permute(0,2,1) # N, hrf, D_in\n",
    "#         print(X.shape)\n",
    "#         X1 = X.reshape(-1, X.shape[-1]) # N*hrf, D_in\n",
    "#         print(X1.shape)\n",
    "        X_hrfflat = X.reshape(X.shape[0], -1) # N, hrf*D_in\n",
    "#         print(X_hrfflat.shape)\n",
    "        Y = self.deep1(X)\n",
    "        att = self.mask(X_hrfflat)\n",
    "        Y = (Y*att[..., None]).sum(dim=-2)\n",
    "#         att = torch.softmax(self.attmod, dim=-2)\n",
    "#         Y = (Y*att).sum(dim=-2)\n",
    "        return Y"
   ]
  },
  {
   "cell_type": "code",
   "execution_count": 9,
   "metadata": {},
   "outputs": [
    {
     "name": "stdout",
     "output_type": "stream",
     "text": [
      "162906376\n"
     ]
    },
    {
     "data": {
      "application/vnd.jupyter.widget-view+json": {
       "model_id": "a7d3b07dae7c4ac283dd01323fef0e3e",
       "version_major": 2,
       "version_minor": 0
      },
      "text/plain": [
       "HBox(children=(FloatProgress(value=0.0, max=3.0), HTML(value='')))"
      ]
     },
     "metadata": {},
     "output_type": "display_data"
    },
    {
     "name": "stdout",
     "output_type": "stream",
     "text": [
      "Training set\n",
      "MSE: 1.50132, MC: 3.381%\n",
      "Validation set\n",
      "MSE: 1.65210, MC: 6.680%\n",
      "Testing set\n",
      "MSE: 1.77904, MC: 4.363%\n",
      "\n",
      "\n",
      "Training set\n",
      "MSE: 1.70737, MC: 17.336%\n",
      "Validation set\n",
      "MSE: 1.82760, MC: 14.800%\n",
      "Testing set\n",
      "MSE: 2.20164, MC: 7.699%\n",
      "\n",
      "\n",
      "Training set\n",
      "MSE: 1.52505, MC: 26.099%\n",
      "Validation set\n",
      "MSE: 1.60668, MC: 21.282%\n",
      "Testing set\n",
      "MSE: 1.98733, MC: 9.443%\n",
      "\n",
      "\n",
      "\n",
      "MSE: 1.98733, MC: 9.443%\n"
     ]
    },
    {
     "data": {
      "image/png": "[encoded data removed]",
      "text/plain": [
       "<Figure size 432x288 with 1 Axes>"
      ]
     },
     "metadata": {
      "needs_background": "light"
     },
     "output_type": "display_data"
    },
    {
     "data": {
      "text/plain": [
       "(1.9873270988464355, 0.09443218261003494)"
      ]
     },
     "execution_count": 9,
     "metadata": {},
     "output_type": "execute_result"
    }
   ],
   "source": [
    "torch.manual_seed(0)\n",
    "model = AKModel().to(device)\n",
    "model(X_test)\n",
    "print(np.sum([p.numel() for p in model.parameters()]))\n",
    "opt = torch.optim.Adam(model.parameters(), lr=8e-4)\n",
    "train_model(model, opt, X_train, Y_train, epochs=3)\n",
    "process.show_stats(Y_test, model(X_test), show_vox_corr_hist=True)"
   ]
  },
  {
   "cell_type": "code",
   "execution_count": 10,
   "metadata": {},
   "outputs": [
    {
     "name": "stdout",
     "output_type": "stream",
     "text": [
      "156171756\n"
     ]
    },
    {
     "data": {
      "application/vnd.jupyter.widget-view+json": {
       "model_id": "6b1d9e85d2a944658b94482b1a8cf404",
       "version_major": 2,
       "version_minor": 0
      },
      "text/plain": [
       "HBox(children=(FloatProgress(value=0.0, max=3.0), HTML(value='')))"
      ]
     },
     "metadata": {},
     "output_type": "display_data"
    },
    {
     "name": "stdout",
     "output_type": "stream",
     "text": [
      "Training set\n",
      "MSE: 1.08387, MC: 2.687%\n",
      "Validation set\n",
      "MSE: 1.12898, MC: 6.901%\n",
      "Testing set\n",
      "MSE: 1.15867, MC: 6.118%\n",
      "\n",
      "\n",
      "Training set\n",
      "MSE: 1.00308, MC: 16.901%\n",
      "Validation set\n",
      "MSE: 1.06171, MC: 15.312%\n",
      "Testing set\n",
      "MSE: 1.15810, MC: 8.325%\n",
      "\n",
      "\n",
      "Training set\n",
      "MSE: 0.90567, MC: 26.530%\n",
      "Validation set\n",
      "MSE: 0.97938, MC: 22.073%\n",
      "Testing set\n",
      "MSE: 1.09252, MC: 9.683%\n",
      "\n",
      "\n",
      "\n",
      "MSE: 1.09252, MC: 9.683%\n"
     ]
    },
    {
     "data": {
      "image/png": "[encoded data removed]",
      "text/plain": [
       "<Figure size 432x288 with 1 Axes>"
      ]
     },
     "metadata": {
      "needs_background": "light"
     },
     "output_type": "display_data"
    },
    {
     "data": {
      "text/plain": [
       "(1.0925171375274658, 0.09682520478963852)"
      ]
     },
     "execution_count": 10,
     "metadata": {},
     "output_type": "execute_result"
    }
   ],
   "source": [
    "torch.manual_seed(0)\n",
    "model = HRFAttention().to(device)\n",
    "model(X_test)\n",
    "print(np.sum([p.numel() for p in model.parameters()]))\n",
    "opt = torch.optim.Adam(model.parameters(), lr=4e-4)\n",
    "train_model(model, opt, X_train, Y_train, epochs=3)\n",
    "process.show_stats(Y_test, model(X_test), show_vox_corr_hist=True)"
   ]
  },
  {
   "cell_type": "code",
   "execution_count": 11,
   "metadata": {},
   "outputs": [],
   "source": [
    "# model = torch.nn.Sequential(torch.nn.Linear(delRstim.shape[-1], mask.sum())).to(device)\n",
    "\n",
    "# opt = torch.optim.SGD(model.parameters(), lr=3e1, weight_decay=1e-4)\n",
    "# opt = torch.optim.SGD(model.parameters(), lr=6e1)"
   ]
  },
  {
   "cell_type": "code",
   "execution_count": null,
   "metadata": {},
   "outputs": [],
   "source": []
  }
 ],
 "metadata": {
  "kernelspec": {
   "display_name": "Python 3",
   "language": "python",
   "name": "python3"
  },
  "language_info": {
   "codemirror_mode": {
    "name": "ipython",
    "version": 3
   },
   "file_extension": ".py",
   "mimetype": "text/x-python",
   "name": "python",
   "nbconvert_exporter": "python",
   "pygments_lexer": "ipython3",
   "version": "3.7.5"
  }
 },
 "nbformat": 4,
 "nbformat_minor": 4
}
